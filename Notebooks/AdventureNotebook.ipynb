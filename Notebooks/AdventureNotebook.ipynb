# Example python code for creating a text adventure

# class to define a location
class Location:
    def __init__(self, description, exits : dict, items: dict):
        # description of the location
        self.description = description

        # dictionary of the exits to the room
        self.exits = exits

        # dictionary of the items currently in the room
        self.items = items


# class to define an item
class Item:
    def __init__(self, name, description):
        self.name = name
        self.description = description

# main game class
class Adventure:

    # code for moving between locations
    def Move(self, direction, currentLocation):
        if (self.currentLocation in self.locations and direction in self.locations[self.currentLocation].exits):
            self.currentLocation = self.locations[currentLocation].exits[direction]
            return self.currentLocation
        else:
            print ("You cannot go in that directon")        
            return self.currentLocation

    # code for picking up an item in a location
    def GetItem(self, item):
        if self.currentLocation in self.locations:
            playerLocation = self.locations[self.currentLocation]
            if item in playerLocation.items:
                self.playerItems[item] = self.items[item]
                del(playerLocation.items[item])
                print ("the item is picked up")
            else:
                print("I cannot see that here.")                
        return self.currentLocation                
        
    # code for dropping an item in a location        
    def DropItem(self, item):
        if item in self.playerItems:
            self.locations[self.currentLocation].items[item] = self.items[item]
            del(self.playerItems[item])
            print("You have dropped it.")
        else:
            print("You aren't carrying it.")            

        return self.currentLocation

    # code for examining an item being carried or in a location
    def ExamineItem(self,item):
        if item in self.locations[self.currentLocation].items or item in self.playerItems:
            print(f"{self.items[item].description}")
        else:
            print(f"I cannot see that here.")
        return self.currentLocation

    # code to list all items being carried by the player
    def Inventory(self, verb, currentLocation):
        print("")
        if len(self.playerItems) > 0:
            print("You are carrying:")
            for key in self.playerItems:
                print(self.playerItems[key].name)
        else:
            print ("You are currently carrying nothing of value")

        return self.currentLocation

    def __init__(self):
        self.items = {"vase": Item("A vase", "The vase is very old, greyish with bright yellow flowers"), "pencil": Item("A pencil", "A simple pencil")}        
        self.locations = { "room1" : Location("You in the study, a staid Victorian look. Dusty with a musty smell. Outside lays to the north", exits = {"north": "room2"}, items ={"vase": self.items["vase"]}), "room2" : Location("You are outside the house. A door is to the south.", exits = {"south": "room1"}, items = {})}    
        self.currentLocation= str("room1")
        self.commandIndex = { "north": self.Move, "south": self.Move, "east":self.Move, "west": self.Move,"examine": self.ExamineItem, "get":self.GetItem, "inventory":self.Inventory, "drop": self.DropItem }
        self.playerItems = {"pencil":self.items["pencil"]}

  
    # display details of the specified location
    def DisplayLocation(self, locationId):
        if (locationId in self.locations):
            current = self.locations[locationId]
            print( current.description)
            print("")

            if (len(current.items) > 0):
                print("You can see the following:")
                for key in current.items:
                    print(current.items[key].name)
  
    # process verb and noun commands like get item
    def DoVerbNoun(self, verb, noun):
        if (verb in self.commandIndex):
            self.commandIndex[verb](noun)
        else:
            print ("I'm sorry I don't understand that.")
        return self.currentLocation


    # process verb only commands, like North
    def DoVerb(self, verb):
        if (verb in self.commandIndex):
            return self.commandIndex[verb](verb, self.currentLocation)        
        else:
            print ("I'm sorry I don't understand that.")
            return self.currentLocation

    # when a function is in a class, self is always passed in by Python so we need to have this
    # as our first parameter.
    def PlayGame(self):
        print ("Starting")
        while 1:
            self.DisplayLocation(self.currentLocation)

            inputValue = input("What now? ").lower()

            if (inputValue == "quit"):
                break

            commands = inputValue.split(sep=' ')

            if (len(commands) == 2):
                self.currentLocation = self.DoVerbNoun(commands[0], commands[1])
            elif(len(commands) == 1):
                self.currentLocation = self.DoVerb(commands[0])
            else:
                print("I'm sorry I don't understand you")    

            

# create a new instance of the game
myAdventure = Adventure()            

# start the game code
myAdventure.PlayGame()


