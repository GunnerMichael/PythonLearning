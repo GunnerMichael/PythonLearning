# python notebook version of noughts and crosses.

import re #regex 
from IPython.display import clear_output # clear screen
from random import Random, randrange

# Randomise whether we start with X or O
def RandomisePlayer():
    if(randrange(100) % 2):
        return "X"
    else:
        return "O"

# Class to hold game state
class GameState:
    board: dict
    lastMoveValid: bool
    moveNumber:int
    currentPlayer: str
    winner: str

    # initialise the base game state
    def __init__(self) :
        self.board = {1:"1",2:"2",3:"3",4:"4",5:"5",6:"6",7:"7",8:"8",9:"9"}
        self.lastMoveValid = True
        self.moveNumber = 1
        self.currentPlayer = RandomisePlayer()
        self.winner = ""                

# Checks the game state to see if we have a winner
def CheckForWinner(gameState):
    if (gameState.board[1] == gameState.board[2] == gameState.board[3] == gameState.currentPlayer):
        return True

    if (gameState.board[4] == gameState.board[5] == gameState.board[6] == gameState.currentPlayer):
        return True

    if (gameState.board[7] == gameState.board[8] == gameState.board[9] == gameState.currentPlayer):
        return True

    if (gameState.board[1] == gameState.board[4] == gameState.board[7] == gameState.currentPlayer):
        return True

    if (gameState.board[2] == gameState.board[5] == gameState.board[8] == gameState.currentPlayer):
        return True

    if (gameState.board[3] == gameState.board[6] == gameState.board[9] == gameState.currentPlayer):
        return True

    if (gameState.board[1] == gameState.board[5] == gameState.board[9] == gameState.currentPlayer):
        return True

    if (gameState.board[3] == gameState.board[5] == gameState.board[7] == gameState.currentPlayer):
        return True

    return False   

# Check the game state to see if game is over
def IsGameOver(gameState):

# Have all possible moves been done
    if (gameState.moveNumber > 9):
        print("No more valid moves")
        return True            
    else:       
        # do we have a winner.
        if(CheckForWinner(gameState) == True):
            gameState.winner = gameState.currentPlayer
            return True
        else:
            gameState.winner = ""
            return False

# display game board and any status messages
def DisplayBoard(gameState):
    board = gameState.board

    clear_output()

    print("+-+-+-+")
    print(f"|{board[1]}|{board[2]}|{board[3]}|")
    print("+-+-+-+")
    print(f"|{board[4]}|{board[5]}|{board[6]}|")
    print("+-+-+-+")
    print(f"|{board[7]}|{board[8]}|{board[9]}|")
    print("+-+-+-+")
    print("")

    if (gameState.lastMoveValid == False):
        print("Last move wasn't valid")
        print("")


    if (gameState.winner != ""):
        print (f"The winner is {gameState.winner}")
        print("")

# Make the move provided by the current player
def MakeMove(player, position, gameState):

    if (gameState.board[position] == str(position)):
        gameState.board[position] = player
        gameState.lastMoveValid = True

        # increment move number after a valid move
        # this can be used to identify when there are no
        # squares left
        gameState.moveNumber += 1
    else:
        gameState.lastMoveValid = False

    return gameState

# initialise new game

gameState = GameState()

activeGame = True

while activeGame == True:

    DisplayBoard(gameState)

    command = input(f"Make your move {gameState.currentPlayer} :- ").upper()

    # validate input

    # Suggestion: We could alter the regex after every move to remove
    # already played squares. 
    if ( re.search("[Q123456789]", command) == None or len(command) != 1):
        gameState.lastMoveValid = False 
    else:               
        if (command == 'Q'):
            activeGame = False
        elif int(command) >= 1 and int(command) <=9:
            gameState = MakeMove(gameState.currentPlayer, int(command), gameState)

        # check if game is over
        if(IsGameOver(gameState) == True):
            activeGame = False
            DisplayBoard(gameState)
            print("Game over")
        else:       
            if (gameState.lastMoveValid == True):
                # swap player
                if (gameState.currentPlayer == 'X'):
                    gameState.currentPlayer = 'O'
                else:
                    gameState.currentPlayer = 'X'
