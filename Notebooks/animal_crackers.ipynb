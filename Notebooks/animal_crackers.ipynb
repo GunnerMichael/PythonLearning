def animal_crackers(input):
    words = input.split(' ')

    if (len(words) != 2):
        print ("Invalid input")
        return False

    if (words[0][0] == words[1][0]):
        return True
    else:
        return False

