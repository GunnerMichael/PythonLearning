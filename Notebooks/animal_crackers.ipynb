{
    "metadata": {
        "kernelspec": {
            "name": "python3",
            "display_name": "Python 3"
        },
        "language_info": {
            "name": "python",
            "version": "3.6.6",
            "mimetype": "text/x-python",
            "codemirror_mode": {
                "name": "ipython",
                "version": 3
            },
            "pygments_lexer": "ipython3",
            "nbconvert_exporter": "python",
            "file_extension": ".py"
        },
        "orig_nbformat": 2
    },
    "nbformat_minor": 2,
    "nbformat": 4,
    "cells": [
        {
            "cell_type": "code",
            "source": [
                "def animal_crackers(input):\n",
                "    words = input.split(' ')\n",
                "\n",
                "    if (len(words) != 2):\n",
                "        print (\"Invalid input\")\n",
                "        return False\n",
                "\n",
                "    if (words[0][0] == words[1][0]):\n",
                "        return True\n",
                "    else:\n",
                "        return False\n",
                "\n"
            ],
            "metadata": {
                "azdata_cell_guid": "ac827363-1e24-41c6-b5a0-e99ba11a2339"
            },
            "outputs": [],
            "execution_count": 1
        },
        {
            "cell_type": "code",
            "source": [
                "animal_crackers(\"lovely lion\")"
            ],
            "metadata": {
                "azdata_cell_guid": "591c9afb-959a-4c2d-b4a0-025d13cdfcfd"
            },
            "outputs": [
                {
                    "data": {
                        "text/plain": "True"
                    },
                    "metadata": {},
                    "execution_count": 2,
                    "output_type": "execute_result"
                }
            ],
            "execution_count": 2
        }
    ]
}