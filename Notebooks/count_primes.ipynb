{
    "metadata": {
        "kernelspec": {
            "name": "python3",
            "display_name": "Python 3"
        },
        "language_info": {
            "name": "python",
            "version": "3.6.6",
            "mimetype": "text/x-python",
            "codemirror_mode": {
                "name": "ipython",
                "version": 3
            },
            "pygments_lexer": "ipython3",
            "nbconvert_exporter": "python",
            "file_extension": ".py"
        },
        "orig_nbformat": 2
    },
    "nbformat_minor": 2,
    "nbformat": 4,
    "cells": [
        {
            "cell_type": "code",
            "source": [
                "def count_primes(amount):\n",
                "\n",
                "    # 2 is always a prime number\n",
                "    if amount == 2:\n",
                "        return 1\n",
                "\n",
                "    if (amount < 2):\n",
                "        return 0\n",
                "\n",
                "# create a range of the number from 3 to amount passed in\n",
                "    inputRange = range(2, amount)\n",
                "\n",
                "    # list comprehension - [ expression for item in list if conditional ]\n",
                "    primes = [x for x in range(2, len(inputRange)) if all(x % y != 0 for y in range(2, x))]\n",
                "\n",
                "# debug\n",
                "    # print(primes)\n",
                "\n",
                "\n",
                "    return len(primes)\n",
                "\n"
            ],
            "metadata": {
                "azdata_cell_guid": "b69f327f-db5e-4503-8096-96b31b38e928"
            },
            "outputs": [],
            "execution_count": 1
        },
        {
            "cell_type": "code",
            "source": [
                "print(count_primes(100))"
            ],
            "metadata": {
                "azdata_cell_guid": "84e7fd6e-92c3-4639-b3d8-177a90b35b25"
            },
            "outputs": [
                {
                    "name": "stdout",
                    "text": "25\n",
                    "output_type": "stream"
                }
            ],
            "execution_count": 2
        }
    ]
}