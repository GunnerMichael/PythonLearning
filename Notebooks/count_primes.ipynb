def count_primes(amount):

    # 2 is always a prime number
    if amount == 2:
        return 1

    if (amount < 2):
        return 0

# create a range of the number from 3 to amount passed in
    inputRange = range(2, amount)

    # list comprehension - [ expression for item in list if conditional ]
    primes = [x for x in range(2, len(inputRange)) if all(x % y != 0 for y in range(2, x))]

# debug
    # print(primes)


    return len(primes)

