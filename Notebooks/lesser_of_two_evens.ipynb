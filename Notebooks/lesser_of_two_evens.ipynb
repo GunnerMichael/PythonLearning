{
    "metadata": {
        "kernelspec": {
            "name": "python3",
            "display_name": "Python 3"
        },
        "language_info": {
            "name": "python",
            "version": "3.6.6",
            "mimetype": "text/x-python",
            "codemirror_mode": {
                "name": "ipython",
                "version": 3
            },
            "pygments_lexer": "ipython3",
            "nbconvert_exporter": "python",
            "file_extension": ".py"
        },
        "orig_nbformat": 2
    },
    "nbformat_minor": 2,
    "nbformat": 4,
    "cells": [
        {
            "cell_type": "code",
            "source": [
                "def lesser_of_two_evens(x, y):\n",
                "    if (x % 2 == 0 and y % 2 == 0):\n",
                "        if (x < y):\n",
                "            return x\n",
                "        else: \n",
                "            return y\n",
                "    else:            \n",
                "        if (x > y):\n",
                "            return x\n",
                "        else: \n",
                "            return y\n",
                "\n",
                "\n",
                "\n",
                "\n",
                "\n",
                "\n"
            ],
            "metadata": {
                "azdata_cell_guid": "a510a83a-f075-45f6-aab4-3ecaebc22fdc"
            },
            "outputs": [],
            "execution_count": 1
        },
        {
            "cell_type": "code",
            "source": [
                "lesser_of_two_evens(100,200)"
            ],
            "metadata": {
                "azdata_cell_guid": "f924e75b-4d08-4b9c-8e99-bea69ffb1ddd"
            },
            "outputs": [
                {
                    "data": {
                        "text/plain": "100"
                    },
                    "metadata": {},
                    "execution_count": 2,
                    "output_type": "execute_result"
                }
            ],
            "execution_count": 2
        }
    ]
}