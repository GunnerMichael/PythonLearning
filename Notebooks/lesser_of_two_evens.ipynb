def lesser_of_two_evens(x, y):
    if (x % 2 == 0 and y % 2 == 0):
        if (x < y):
            return x
        else: 
            return y
    else:            
        if (x > y):
            return x
        else: 
            return y






