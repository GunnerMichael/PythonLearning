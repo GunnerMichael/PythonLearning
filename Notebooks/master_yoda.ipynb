{
    "metadata": {
        "kernelspec": {
            "name": "python3",
            "display_name": "Python 3"
        },
        "language_info": {
            "name": "python",
            "version": "3.6.6",
            "mimetype": "text/x-python",
            "codemirror_mode": {
                "name": "ipython",
                "version": 3
            },
            "pygments_lexer": "ipython3",
            "nbconvert_exporter": "python",
            "file_extension": ".py"
        },
        "orig_nbformat": 2
    },
    "nbformat_minor": 2,
    "nbformat": 4,
    "cells": [
        {
            "cell_type": "code",
            "source": [
                "def master_yoda(x):\n",
                "    # get a list of all the words\n",
                "    words = x.split(\" \")\n",
                "\n",
                "    if (len(words) < 1):\n",
                "        return x\n",
                "\n",
                "    # reverse the order of the list\n",
                "    words.reverse()    \n",
                "\n",
                "    # title case the new first word\n",
                "    words[0] = words[0].title()\n",
                "\n",
                "    # lower case the new last word.\n",
                "    words[-1] = words[-1].lower()\n",
                "\n",
                "    output = ' '.join(words)\n",
                "\n",
                "    return output\n",
                "\n",
                "\n"
            ],
            "metadata": {
                "azdata_cell_guid": "863927bf-ccd9-4935-8a68-7db847e20e88"
            },
            "outputs": [],
            "execution_count": 5
        },
        {
            "cell_type": "code",
            "source": [
                "master_yoda(\"must i fight\")"
            ],
            "metadata": {
                "azdata_cell_guid": "2b773328-e67a-42c8-893d-cf5aedc9d702"
            },
            "outputs": [
                {
                    "data": {
                        "text/plain": "'Fight i must'"
                    },
                    "metadata": {},
                    "execution_count": 6,
                    "output_type": "execute_result"
                }
            ],
            "execution_count": 6
        }
    ]
}