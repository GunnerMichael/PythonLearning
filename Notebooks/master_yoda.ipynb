def master_yoda(x):
    # get a list of all the words
    words = x.split(" ")

    if (len(words) < 1):
        return x

    # reverse the order of the list
    words.reverse()    

    # title case the new first word
    words[0] = words[0].title()

    # lower case the new last word.
    words[-1] = words[-1].lower()

    output = ' '.join(words)

    return output


