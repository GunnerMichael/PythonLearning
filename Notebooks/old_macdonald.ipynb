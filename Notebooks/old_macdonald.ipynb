def old_macdonald(input):
    if (len(input) < 4):
        print("Invalid Input")
        return input
        
    return input[0:3].capitalize() + input[3:].capitalize()
