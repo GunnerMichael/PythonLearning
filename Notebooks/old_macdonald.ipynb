{
    "metadata": {
        "kernelspec": {
            "name": "python3",
            "display_name": "Python 3"
        },
        "language_info": {
            "name": "python",
            "version": "3.6.6",
            "mimetype": "text/x-python",
            "codemirror_mode": {
                "name": "ipython",
                "version": 3
            },
            "pygments_lexer": "ipython3",
            "nbconvert_exporter": "python",
            "file_extension": ".py"
        },
        "orig_nbformat": 2
    },
    "nbformat_minor": 2,
    "nbformat": 4,
    "cells": [
        {
            "cell_type": "code",
            "source": [
                "def old_macdonald(input):\n",
                "    if (len(input) < 4):\n",
                "        print(\"Invalid Input\")\n",
                "        return input\n",
                "        \n",
                "    return input[0:3].capitalize() + input[3:].capitalize()\n"
            ],
            "metadata": {
                "azdata_cell_guid": "bf59b040-429c-49b3-ae42-083a6f1eebed"
            },
            "outputs": [],
            "execution_count": 1
        },
        {
            "cell_type": "code",
            "source": [
                "old_macdonald(\"macdougal\")"
            ],
            "metadata": {
                "azdata_cell_guid": "eacf5cd2-ff14-43e4-bcad-1ccec53196e8"
            },
            "outputs": [
                {
                    "data": {
                        "text/plain": "'MacDougal'"
                    },
                    "metadata": {},
                    "execution_count": 2,
                    "output_type": "execute_result"
                }
            ],
            "execution_count": 2
        }
    ]
}