def print_big(letter):

    letters = { "a": "  *  \r\n * *\r\n*****\r\n*   *\r\n*   *",
                "b": "*****\r\n*    *\r\n*****\r\n*    *\r\n*****",
                "c": "*****\r\n*    \r\n*    \r\n*    \r\n*****",
                "d": "*****\r\n*    *\r\n*    *\r\n*    *\r\n*****",
                "e": "*****\r\n*\r\n*****\r\n*\r\n*****\r\n",
                "f": "*****\r\n*\r\n*****\r\n*\r\n*\r\n"}


    if (letter.lower() >= 'a' and letter.lower() <= 'f'):
        print (letters[letter.lower()])
    else:
        print(f"{letter.upper()} - not supported")
