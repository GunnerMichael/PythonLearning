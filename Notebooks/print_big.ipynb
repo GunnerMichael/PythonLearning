{
    "metadata": {
        "kernelspec": {
            "name": "python3",
            "display_name": "Python 3"
        },
        "language_info": {
            "name": "python",
            "version": "3.6.6",
            "mimetype": "text/x-python",
            "codemirror_mode": {
                "name": "ipython",
                "version": 3
            },
            "pygments_lexer": "ipython3",
            "nbconvert_exporter": "python",
            "file_extension": ".py"
        },
        "orig_nbformat": 2
    },
    "nbformat_minor": 2,
    "nbformat": 4,
    "cells": [
        {
            "cell_type": "code",
            "source": [
                "def print_big(letter):\n",
                "\n",
                "    letters = { \"a\": \"  *  \\r\\n * *\\r\\n*****\\r\\n*   *\\r\\n*   *\",\n",
                "                \"b\": \"*****\\r\\n*    *\\r\\n*****\\r\\n*    *\\r\\n*****\",\n",
                "                \"c\": \"*****\\r\\n*    \\r\\n*    \\r\\n*    \\r\\n*****\",\n",
                "                \"d\": \"*****\\r\\n*    *\\r\\n*    *\\r\\n*    *\\r\\n*****\",\n",
                "                \"e\": \"*****\\r\\n*\\r\\n*****\\r\\n*\\r\\n*****\\r\\n\",\n",
                "                \"f\": \"*****\\r\\n*\\r\\n*****\\r\\n*\\r\\n*\\r\\n\"}\n",
                "\n",
                "\n",
                "    if (letter.lower() >= 'a' and letter.lower() <= 'f'):\n",
                "        print (letters[letter.lower()])\n",
                "    else:\n",
                "        print(f\"{letter.upper()} - not supported\")\n"
            ],
            "metadata": {
                "azdata_cell_guid": "31032287-4b57-40ed-a2d3-f03634cfebd9"
            },
            "outputs": [],
            "execution_count": 1
        },
        {
            "cell_type": "code",
            "source": [
                "print_big(\"a\")"
            ],
            "metadata": {
                "azdata_cell_guid": "1c7d4e61-6de3-4a05-923a-90a2e3e7873c"
            },
            "outputs": [
                {
                    "name": "stdout",
                    "text": "*****\r\n*    \r\n*    \r\n*    \r\n*****\n",
                    "output_type": "stream"
                }
            ],
            "execution_count": 2
        }
    ]
}