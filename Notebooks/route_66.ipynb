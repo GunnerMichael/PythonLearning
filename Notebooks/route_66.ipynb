def route_66(input):
    # create a list of index positions where the current item in the loop is 6 and the next item is a 6
    # list comprehension - [ expression for item in list if conditional ]
    sixIndex =  [i for i in range(len(input)-1) if (input[i]==6 and input[i+1]==6)]

    # if we have at least one item in our list then we have matched a 6 next to a 6
    if len(sixIndex) >= 1:
        return True
    else:    
        return False        
 
