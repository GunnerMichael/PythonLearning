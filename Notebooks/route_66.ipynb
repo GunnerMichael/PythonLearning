{
    "metadata": {
        "kernelspec": {
            "name": "python3",
            "display_name": "Python 3"
        },
        "language_info": {
            "name": "python",
            "version": "3.6.6",
            "mimetype": "text/x-python",
            "codemirror_mode": {
                "name": "ipython",
                "version": 3
            },
            "pygments_lexer": "ipython3",
            "nbconvert_exporter": "python",
            "file_extension": ".py"
        },
        "orig_nbformat": 2
    },
    "nbformat_minor": 2,
    "nbformat": 4,
    "cells": [
        {
            "cell_type": "markdown",
            "source": [
                "Given a list of integers, return True if the array contains a 6 next to a 6 somewhere.\n",
                "\n",
                "```\n",
                "route_66([1, 6, 6]) → True\n",
                "route_66([1, 6, 1, 6]) → False\n",
                "route_66([6, 1, 6]) → False\n",
                "```\n",
                ""
            ],
            "metadata": {
                "azdata_cell_guid": "cf92a212-7e8f-453c-844c-9259d8bb41ba"
            }
        },
        {
            "cell_type": "code",
            "source": [
                "def route_66(input):\n",
                "    # create a list of index positions where the current item in the loop is 6 and the next item is a 6\n",
                "    # list comprehension - [ expression for item in list if conditional ]\n",
                "    sixIndex =  [i for i in range(len(input)-1) if (input[i]==6 and input[i+1]==6)]\n",
                "\n",
                "    # if we have at least one item in our list then we have matched a 6 next to a 6\n",
                "    if len(sixIndex) >= 1:\n",
                "        return True\n",
                "    else:    \n",
                "        return False        \n",
                " "
            ],
            "metadata": {
                "azdata_cell_guid": "79ad7b92-2918-46e8-8f98-06d6b7ecefd7"
            },
            "outputs": [],
            "execution_count": 7
        },
        {
            "cell_type": "code",
            "source": [
                "route_66([1, 6, 6])\r\n",
                ""
            ],
            "metadata": {
                "azdata_cell_guid": "2f77e025-059e-48b9-8c7b-c81d613be6cf"
            },
            "outputs": [
                {
                    "data": {
                        "text/plain": "True"
                    },
                    "metadata": {},
                    "execution_count": 8,
                    "output_type": "execute_result"
                }
            ],
            "execution_count": 8
        },
        {
            "cell_type": "code",
            "source": [
                "route_66([1, 6, 1, 6]) \r\n",
                ""
            ],
            "metadata": {
                "azdata_cell_guid": "185e41a0-1879-4c2a-aaee-0b8eebc65c08"
            },
            "outputs": [
                {
                    "data": {
                        "text/plain": "False"
                    },
                    "metadata": {},
                    "execution_count": 9,
                    "output_type": "execute_result"
                }
            ],
            "execution_count": 9
        },
        {
            "cell_type": "code",
            "source": [
                "route_66([6, 1, 6])"
            ],
            "metadata": {
                "azdata_cell_guid": "3392fdc3-1ae3-4928-acef-0e8997163307"
            },
            "outputs": [
                {
                    "data": {
                        "text/plain": "False"
                    },
                    "metadata": {},
                    "execution_count": 10,
                    "output_type": "execute_result"
                }
            ],
            "execution_count": 10
        }
    ]
}