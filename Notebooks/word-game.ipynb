import string
from random import randrange
from IPython.display import clear_output # clear screen

def DisplayGuessStatus(guesses_left):
    if (guesses_left == 1):
        print("You have one chance left!")
    else:
        print(f"You have {guesses_left} chances left.")

def PlayLetter(answer, letters, letter):
    if letter in letters:
        for index in letters[letter]:
            answer = answer[:index] + letter + answer[index + 1:]

    return answer

selection = -1

while(selection == -1):
    clear_output()
    print ("Welcome to Guess")
    print("Do you want to play")
    print("1. Movies and TV")
    print("2. Words")

    gamechoice = input("Enter 1 or 2")

    if (gamechoice == '1'):
        selection = 1

    if (gamechoice == '2'):
        selection = 2        

stillPlaying = True

while stillPlaying:

    if (selection == 1):
        wordlist = ["planet of the apes",'return of the jedi','star wars','raiders of the lost ark','the empire strikes back','the force awakens','rise of skywalker','the last jedi','back to the future','the last crusade','the last starfighter','avengers assemble','age of ultron','civil war','infinity war','endgame','wandavision','the falcon and the winter soldier','bones','castle','alien','aliens','knives out','the last airbender','glass','unbreakable']    
    else:
        wordlist = ['engineering','basic','feathers','chicken','charming','compute','radiation','continue','breakfast','donkey','meander','connnection','server','keyboard','wipes']    

    # pick a random word from the list
    word = wordlist[randrange(0, len(wordlist))]
    word = word.upper()

    # build a dictionary of letters used in the word
    # and their index positions
    letters = dict()

    index = 0
    for letter in word:
        if letter in letters:
            letters[letter] += {index}
        else:
            letters[letter] = [index]
        index = index + 1

    # create a blank for each letter in the word
    answer = "_" * len(word)

    gameOver = False
    guesses_left = 5

    # show any spaces in the word
    answer = PlayLetter(answer, letters, " ")
    print(answer)

    while gameOver == False:

        letter = input("Enter a letter: ").upper()

        clear_output()

        if (len(letter) > 1):
            # guessing full word
            if (letter == word):
                answer = word
            else:
                guesses_left -=1            

        else:

            if (letter in letters):    
                answer = PlayLetter(answer, letters, letter)
            else:
                print(f"No {letter}")   
                guesses_left -= 1

        DisplayGuessStatus(guesses_left)

        print(answer)
    
        if (answer == word):
            clear_output()
            print(f"You have won. The word was {word}")
            gameOver = True


        if guesses_left == 0:
            clear_output()
            print(f"You ran out of chances. The word was {word}")                  
            gameOver = True

    again = input("Play again y/n").upper()

    if (again == 'Y'):
        stillPlaying = True
    else:
        stillPlaying = False        
